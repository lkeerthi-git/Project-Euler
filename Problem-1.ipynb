{
 "cells": [
  {
   "cell_type": "markdown",
   "id": "bd321723",
   "metadata": {},
   "source": [
    "## Problem-1 ##\n",
    "\n",
    "If we list all the natural numbers below 10 that are multiples of 3 or 5, we get 3, 5, 6 and 9. The sum of these multiples is 23.\n",
    "\n",
    "Find the sum of all the multiples of 3 or 5 below N."
   ]
  },
  {
   "cell_type": "code",
   "execution_count": null,
   "id": "ca7c64cd",
   "metadata": {},
   "outputs": [],
   "source": [
    "import sys\n",
    "num = int(input().strip())\n",
    "for tests in range(num):\n",
    "    n=int(input())-1\n",
    "    n_3=(n//3)\n",
    "    n_5=(n//5)\n",
    "    n_15=(n//15)\n",
    "    sum= (3*n_3 *(1+n_3))//2 + (5*n_5 *(1+n_5))//2 - (15*n_15 *(1+n_15))//2\n",
    "    print(int(sum))"
   ]
  }
 ],
 "metadata": {
  "kernelspec": {
   "display_name": "Python 3",
   "language": "python",
   "name": "python3"
  },
  "language_info": {
   "codemirror_mode": {
    "name": "ipython",
    "version": 3
   },
   "file_extension": ".py",
   "mimetype": "text/x-python",
   "name": "python",
   "nbconvert_exporter": "python",
   "pygments_lexer": "ipython3",
   "version": "3.8.8"
  }
 },
 "nbformat": 4,
 "nbformat_minor": 5
}
