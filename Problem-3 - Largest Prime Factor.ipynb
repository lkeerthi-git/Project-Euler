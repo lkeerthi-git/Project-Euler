{
 "cells": [
  {
   "cell_type": "markdown",
   "id": "d44c0890",
   "metadata": {},
   "source": [
    "## Problem-3 Largest Prime Factor ##\n",
    "\n",
    "The prime factors of 13195 are 5, 7, 13 and 29.\n",
    "\n",
    "What is the largest prime factor of a given number N?\n",
    "\n",
    "eg., What is the largest prime factor of the number 600851475143 ?\n",
    "     \n",
    "     Largest Prime Factor for 600851475143 : 6857\n",
    "\n",
    "\n",
    "###  Constraints ###\n",
    " * 1 <= T <= 10\n",
    " * 10 <= N <= 4*$10^{12}$"
   ]
  },
  {
   "cell_type": "code",
   "execution_count": 1,
   "id": "c5d9ffa0",
   "metadata": {},
   "outputs": [
    {
     "name": "stdout",
     "output_type": "stream",
     "text": [
      "Enter the number for which you want to find the largest prime factor :600851475143\n",
      "Prime factors for 600851475143 : [1, 71, 839, 1471, 6857]\n",
      "Largest Prime Factor for 600851475143 : 6857\n"
     ]
    }
   ],
   "source": [
    "import math\n",
    "def findfactors(number):\n",
    "    fact =[]\n",
    "    for f in range (1,int(math.sqrt(number))+1):\n",
    "        if number % f == 0:\n",
    "            fact.append(f)\n",
    "            fact.append(number//f)\n",
    "    return fact\n",
    "\n",
    "def isprime(number):\n",
    "    return len(findfactors(number)) == 2\n",
    "\n",
    "n = int(input(\"Enter the number for which you want to find the largest prime factor :\"))\n",
    "allfactors = findfactors(n)\n",
    "primefactors=[]\n",
    "for factor in allfactors:\n",
    "    if isprime(factor):\n",
    "        primefactors.append(factor)  \n",
    "print(\"Prime factors for\",n,\":\",primefactors)\n",
    "print(\"Largest Prime Factor for\",n,\":\",primefactors[-1])\n"
   ]
  }
 ],
 "metadata": {
  "kernelspec": {
   "display_name": "Python 3",
   "language": "python",
   "name": "python3"
  },
  "language_info": {
   "codemirror_mode": {
    "name": "ipython",
    "version": 3
   },
   "file_extension": ".py",
   "mimetype": "text/x-python",
   "name": "python",
   "nbconvert_exporter": "python",
   "pygments_lexer": "ipython3",
   "version": "3.8.8"
  }
 },
 "nbformat": 4,
 "nbformat_minor": 5
}
